{
 "cells": [
  {
   "cell_type": "code",
   "execution_count": 1,
   "metadata": {},
   "outputs": [],
   "source": [
    "import pandas as pd"
   ]
  },
  {
   "cell_type": "code",
   "execution_count": 5,
   "metadata": {},
   "outputs": [
    {
     "name": "stdout",
     "output_type": "stream",
     "text": [
      "http://localhost:3000\n"
     ]
    }
   ],
   "source": [
    "# run nodejs script first\n",
    "url = \"http://localhost:3000\"\n",
    "\n",
    "print(url)"
   ]
  },
  {
   "cell_type": "code",
   "execution_count": 3,
   "metadata": {},
   "outputs": [
    {
     "name": "stdout",
     "output_type": "stream",
     "text": [
      "<class 'pandas.core.frame.DataFrame'>\n",
      "RangeIndex: 25 entries, 0 to 24\n",
      "Data columns (total 6 columns):\n",
      " #   Column    Non-Null Count  Dtype              \n",
      "---  ------    --------------  -----              \n",
      " 0   LOAN      25 non-null     int64              \n",
      " 1   INTEREST  25 non-null     float64            \n",
      " 2   TERM      25 non-null     int64              \n",
      " 3   MONTHLY   25 non-null     float64            \n",
      " 4   STATUS    25 non-null     object             \n",
      " 5   DATE      25 non-null     datetime64[ns, UTC]\n",
      "dtypes: datetime64[ns, UTC](1), float64(2), int64(2), object(1)\n",
      "memory usage: 1.3+ KB\n"
     ]
    }
   ],
   "source": [
    "df = pd.read_json(url)\n",
    "\n",
    "df.info()"
   ]
  },
  {
   "cell_type": "code",
   "execution_count": 4,
   "metadata": {},
   "outputs": [
    {
     "data": {
      "text/html": [
       "<div>\n",
       "<style scoped>\n",
       "    .dataframe tbody tr th:only-of-type {\n",
       "        vertical-align: middle;\n",
       "    }\n",
       "\n",
       "    .dataframe tbody tr th {\n",
       "        vertical-align: top;\n",
       "    }\n",
       "\n",
       "    .dataframe thead th {\n",
       "        text-align: right;\n",
       "    }\n",
       "</style>\n",
       "<table border=\"1\" class=\"dataframe\">\n",
       "  <thead>\n",
       "    <tr style=\"text-align: right;\">\n",
       "      <th></th>\n",
       "      <th>LOAN</th>\n",
       "      <th>INTEREST</th>\n",
       "      <th>TERM</th>\n",
       "      <th>MONTHLY</th>\n",
       "      <th>STATUS</th>\n",
       "      <th>DATE</th>\n",
       "    </tr>\n",
       "  </thead>\n",
       "  <tbody>\n",
       "    <tr>\n",
       "      <th>0</th>\n",
       "      <td>25000</td>\n",
       "      <td>4.7</td>\n",
       "      <td>24</td>\n",
       "      <td>1093.43</td>\n",
       "      <td>high</td>\n",
       "      <td>2020-10-16 12:39:52.419000+00:00</td>\n",
       "    </tr>\n",
       "    <tr>\n",
       "      <th>1</th>\n",
       "      <td>25000</td>\n",
       "      <td>4.7</td>\n",
       "      <td>36</td>\n",
       "      <td>745.91</td>\n",
       "      <td>high</td>\n",
       "      <td>2020-10-16 12:39:52.419000+00:00</td>\n",
       "    </tr>\n",
       "    <tr>\n",
       "      <th>2</th>\n",
       "      <td>25000</td>\n",
       "      <td>4.7</td>\n",
       "      <td>48</td>\n",
       "      <td>572.34</td>\n",
       "      <td>ok</td>\n",
       "      <td>2020-10-16 12:39:52.419000+00:00</td>\n",
       "    </tr>\n",
       "    <tr>\n",
       "      <th>3</th>\n",
       "      <td>25000</td>\n",
       "      <td>4.7</td>\n",
       "      <td>60</td>\n",
       "      <td>468.35</td>\n",
       "      <td>low</td>\n",
       "      <td>2020-10-16 12:39:52.419000+00:00</td>\n",
       "    </tr>\n",
       "    <tr>\n",
       "      <th>4</th>\n",
       "      <td>25000</td>\n",
       "      <td>4.7</td>\n",
       "      <td>72</td>\n",
       "      <td>399.15</td>\n",
       "      <td>low</td>\n",
       "      <td>2020-10-16 12:39:52.419000+00:00</td>\n",
       "    </tr>\n",
       "  </tbody>\n",
       "</table>\n",
       "</div>"
      ],
      "text/plain": [
       "    LOAN  INTEREST  TERM  MONTHLY STATUS                             DATE\n",
       "0  25000       4.7    24  1093.43   high 2020-10-16 12:39:52.419000+00:00\n",
       "1  25000       4.7    36   745.91   high 2020-10-16 12:39:52.419000+00:00\n",
       "2  25000       4.7    48   572.34     ok 2020-10-16 12:39:52.419000+00:00\n",
       "3  25000       4.7    60   468.35    low 2020-10-16 12:39:52.419000+00:00\n",
       "4  25000       4.7    72   399.15    low 2020-10-16 12:39:52.419000+00:00"
      ]
     },
     "execution_count": 4,
     "metadata": {},
     "output_type": "execute_result"
    }
   ],
   "source": [
    "df.head()"
   ]
  },
  {
   "cell_type": "code",
   "execution_count": null,
   "metadata": {},
   "outputs": [],
   "source": []
  }
 ],
 "metadata": {
  "kernelspec": {
   "display_name": "Python 3",
   "language": "python",
   "name": "python3"
  },
  "language_info": {
   "codemirror_mode": {
    "name": "ipython",
    "version": 3
   },
   "file_extension": ".py",
   "mimetype": "text/x-python",
   "name": "python",
   "nbconvert_exporter": "python",
   "pygments_lexer": "ipython3",
   "version": "3.8.5"
  }
 },
 "nbformat": 4,
 "nbformat_minor": 4
}
