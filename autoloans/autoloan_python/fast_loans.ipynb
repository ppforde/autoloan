{
 "cells": [
  {
   "cell_type": "code",
   "execution_count": 1,
   "metadata": {},
   "outputs": [],
   "source": [
    "from datetime import datetime, timedelta"
   ]
  },
  {
   "cell_type": "code",
   "execution_count": 2,
   "metadata": {},
   "outputs": [
    {
     "data": {
      "text/plain": [
       "datetime.datetime(2021, 11, 20, 12, 48, 29, 164880)"
      ]
     },
     "execution_count": 2,
     "metadata": {},
     "output_type": "execute_result"
    }
   ],
   "source": [
    "today = datetime.today()\n",
    "today"
   ]
  },
  {
   "cell_type": "code",
   "execution_count": 3,
   "metadata": {},
   "outputs": [
    {
     "data": {
      "text/plain": [
       "['2021-11-20', '2021-11-21', '2021-11-22', '2021-11-23', '2021-11-24']"
      ]
     },
     "execution_count": 3,
     "metadata": {},
     "output_type": "execute_result"
    }
   ],
   "source": [
    "dates = [(today + timedelta(d)).strftime(format=\"%Y-%m-%d\") for d in range(0,25)]\n",
    "dates[0:5]"
   ]
  },
  {
   "cell_type": "code",
   "execution_count": 4,
   "metadata": {},
   "outputs": [],
   "source": [
    "import random"
   ]
  },
  {
   "cell_type": "code",
   "execution_count": 5,
   "metadata": {},
   "outputs": [
    {
     "data": {
      "text/plain": [
       "'2021-11-27'"
      ]
     },
     "execution_count": 5,
     "metadata": {},
     "output_type": "execute_result"
    }
   ],
   "source": [
    "random.choice(dates)"
   ]
  },
  {
   "cell_type": "code",
   "execution_count": 6,
   "metadata": {},
   "outputs": [],
   "source": [
    "def auto_loan_func(present_value, number_periods, interest_rate):\n",
    "    interest_rate = interest_rate/100/12\n",
    "    return round(interest_rate * present_value / (1-(1+interest_rate)** -number_periods),2)"
   ]
  },
  {
   "cell_type": "code",
   "execution_count": 7,
   "metadata": {},
   "outputs": [
    {
     "data": {
      "text/plain": [
       "389.84"
      ]
     },
     "execution_count": 7,
     "metadata": {},
     "output_type": "execute_result"
    }
   ],
   "source": [
    "auto_loan_func(25515, 72, 3.19)"
   ]
  },
  {
   "cell_type": "code",
   "execution_count": 8,
   "metadata": {},
   "outputs": [
    {
     "data": {
      "text/plain": [
       "162"
      ]
     },
     "execution_count": 8,
     "metadata": {},
     "output_type": "execute_result"
    }
   ],
   "source": [
    "loans = [\n",
    "    {\n",
    "        'date_time': random.choice(dates),\n",
    "        'present_value': pv,\n",
    "        'number_periods': np,\n",
    "        'interest_rate': ir,\n",
    "        'monthly_payment': auto_loan_func(pv, np, ir)\n",
    "    } \n",
    "    \n",
    "    for pv in range(22000, 31000, 1000) for np in range(12,84,12) for ir in (2.9, 3.19, 4.7)\n",
    "]\n",
    "\n",
    "len(loans)"
   ]
  },
  {
   "cell_type": "code",
   "execution_count": 9,
   "metadata": {},
   "outputs": [],
   "source": [
    "for x in loans:\n",
    "    if x['monthly_payment'] >= 1000:\n",
    "        x['status'] = 'HI'\n",
    "    elif x['monthly_payment'] <= 500:\n",
    "        x['status'] = \"LO\"\n",
    "    else:\n",
    "        x['status'] = 'OK'"
   ]
  },
  {
   "cell_type": "code",
   "execution_count": 10,
   "metadata": {},
   "outputs": [
    {
     "data": {
      "text/plain": [
       "[{'date_time': '2021-11-27',\n",
       "  'present_value': 22000,\n",
       "  'number_periods': 12,\n",
       "  'interest_rate': 2.9,\n",
       "  'monthly_payment': 1862.26,\n",
       "  'status': 'HI'},\n",
       " {'date_time': '2021-12-14',\n",
       "  'present_value': 22000,\n",
       "  'number_periods': 12,\n",
       "  'interest_rate': 3.19,\n",
       "  'monthly_payment': 1865.17,\n",
       "  'status': 'HI'},\n",
       " {'date_time': '2021-11-30',\n",
       "  'present_value': 22000,\n",
       "  'number_periods': 12,\n",
       "  'interest_rate': 4.7,\n",
       "  'monthly_payment': 1880.34,\n",
       "  'status': 'HI'},\n",
       " {'date_time': '2021-12-11',\n",
       "  'present_value': 22000,\n",
       "  'number_periods': 24,\n",
       "  'interest_rate': 2.9,\n",
       "  'monthly_payment': 944.61,\n",
       "  'status': 'OK'}]"
      ]
     },
     "execution_count": 10,
     "metadata": {},
     "output_type": "execute_result"
    }
   ],
   "source": [
    "loans[0:4]"
   ]
  },
  {
   "cell_type": "code",
   "execution_count": 11,
   "metadata": {},
   "outputs": [
    {
     "data": {
      "text/plain": [
       "[{'date_time': '2021-11-28',\n",
       "  'present_value': 30000,\n",
       "  'number_periods': 60,\n",
       "  'interest_rate': 4.7,\n",
       "  'monthly_payment': 562.02,\n",
       "  'status': 'OK'},\n",
       " {'date_time': '2021-11-22',\n",
       "  'present_value': 30000,\n",
       "  'number_periods': 72,\n",
       "  'interest_rate': 2.9,\n",
       "  'monthly_payment': 454.47,\n",
       "  'status': 'LO'},\n",
       " {'date_time': '2021-11-21',\n",
       "  'present_value': 30000,\n",
       "  'number_periods': 72,\n",
       "  'interest_rate': 3.19,\n",
       "  'monthly_payment': 458.36,\n",
       "  'status': 'LO'},\n",
       " {'date_time': '2021-12-04',\n",
       "  'present_value': 30000,\n",
       "  'number_periods': 72,\n",
       "  'interest_rate': 4.7,\n",
       "  'monthly_payment': 478.98,\n",
       "  'status': 'LO'}]"
      ]
     },
     "execution_count": 11,
     "metadata": {},
     "output_type": "execute_result"
    }
   ],
   "source": [
    "loans[-4:]"
   ]
  },
  {
   "cell_type": "code",
   "execution_count": 12,
   "metadata": {},
   "outputs": [
    {
     "data": {
      "text/plain": [
       "dict_keys(['date_time', 'present_value', 'number_periods', 'interest_rate', 'monthly_payment', 'status'])"
      ]
     },
     "execution_count": 12,
     "metadata": {},
     "output_type": "execute_result"
    }
   ],
   "source": [
    "fieldnames = loans[0].keys()\n",
    "fieldnames"
   ]
  },
  {
   "cell_type": "code",
   "execution_count": 13,
   "metadata": {},
   "outputs": [],
   "source": [
    "import csv"
   ]
  },
  {
   "cell_type": "code",
   "execution_count": 14,
   "metadata": {},
   "outputs": [],
   "source": [
    "with open(file='loans_data.csv', mode='w', newline='') as f:\n",
    "    writer = csv.DictWriter(f, fieldnames = fieldnames)\n",
    "    writer.writeheader()\n",
    "    writer.writerows(loans)"
   ]
  },
  {
   "cell_type": "code",
   "execution_count": null,
   "metadata": {},
   "outputs": [],
   "source": []
  }
 ],
 "metadata": {
  "kernelspec": {
   "display_name": "Python 3",
   "language": "python",
   "name": "python3"
  },
  "language_info": {
   "codemirror_mode": {
    "name": "ipython",
    "version": 3
   },
   "file_extension": ".py",
   "mimetype": "text/x-python",
   "name": "python",
   "nbconvert_exporter": "python",
   "pygments_lexer": "ipython3",
   "version": "3.8.3"
  }
 },
 "nbformat": 4,
 "nbformat_minor": 4
}
